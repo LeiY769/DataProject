{
 "cells": [
  {
   "cell_type": "code",
   "execution_count": 1,
   "metadata": {},
   "outputs": [],
   "source": [
    "import pandas as pd\n",
    "import numpy as np\n",
    "import matplotlib.pyplot as plt\n",
    "import seaborn as sns\n",
    "import os\n",
    "import sys"
   ]
  },
  {
   "cell_type": "code",
   "execution_count": 2,
   "metadata": {},
   "outputs": [
    {
     "data": {
      "text/plain": [
       "'for file in files[1:]:\\n    df = pd.read_csv(\"dataset/\" + file)\\n    print(f\"Checking file : {file}...\")\\n    # check if 2 files has the columns in common\\n    common_cols = set(columns) & set(df.columns)\\n    if len(common_cols) > 1:\\n        print(f\"\\t for {file} there are {len(common_cols)} common columns\")\\n    else:\\n        print(f\"Columns of file {file} : {df.columns}\")\\n        print(\"The columns are not the same, exiting...\")\\n        sys.exit(1)'"
      ]
     },
     "execution_count": 2,
     "metadata": {},
     "output_type": "execute_result"
    }
   ],
   "source": [
    "# it lists all files in the dataset folder\n",
    "files = os.listdir(\"dataset\")"
   ]
  },
  {
   "cell_type": "code",
   "execution_count": 12,
   "metadata": {},
   "outputs": [
    {
     "data": {
      "text/plain": [
       "'\\ndf = pd.read_csv(\"dataset/\" + files[0])\\ncolumns = df.columns\\n\\nfor file in files[1:]:\\n    df = pd.read_csv(\"dataset/\" + file)\\n    print(f\"Checking file : {file}...\")\\n    # check if 2 files has the columns in common\\n    common_cols = set(columns) & set(df.columns)\\n    if len(common_cols) > 1:\\n        print(f\"\\t for {file} there are {len(common_cols)} common columns\")\\n    else:\\n        print(f\"Columns of file {file} : {df.columns}\")\\n        print(\"The columns are not the same, exiting...\")\\n        sys.exit(1)'"
      ]
     },
     "execution_count": 12,
     "metadata": {},
     "output_type": "execute_result"
    }
   ],
   "source": [
    "# Code to check if all files have the columns in common\n",
    "\"\"\"\n",
    "df = pd.read_csv(\"dataset/\" + files[0])\n",
    "columns = df.columns\n",
    "\n",
    "for file in files[1:]:\n",
    "    df = pd.read_csv(\"dataset/\" + file)\n",
    "    print(f\"Checking file : {file}...\")\n",
    "    # check if 2 files has the columns in common\n",
    "    common_cols = set(columns) & set(df.columns)\n",
    "    if len(common_cols) > 1:\n",
    "        print(f\"\\t for {file} there are {len(common_cols)} common columns\")\n",
    "    else:\n",
    "        print(f\"Columns of file {file} : {df.columns}\")\n",
    "        print(\"The columns are not the same, exiting...\")\n",
    "        sys.exit(1)\n",
    "\"\"\""
   ]
  },
  {
   "cell_type": "code",
   "execution_count": 10,
   "metadata": {},
   "outputs": [
    {
     "name": "stderr",
     "output_type": "stream",
     "text": [
      "C:\\Users\\sayle\\AppData\\Local\\Temp\\ipykernel_26372\\1333384499.py:19: DtypeWarning: Columns (12) have mixed types. Specify dtype option on import or set low_memory=False.\n",
      "  dataframe = pd.read_csv(\"dataset/\" + file)\n"
     ]
    }
   ],
   "source": [
    "def print_missing_values(df, file):\n",
    "    print(f\"File : {file}\")\n",
    "    for col in df.columns:\n",
    "        n_miss = df[col].isnull().sum()\n",
    "        perc = n_miss / df.shape[0] * 100\n",
    "        if (n_miss > 0):\t\n",
    "            print(f\"\\t{col} : {n_miss} missing values, {perc:.2f}%\")\n",
    "\n",
    "def print_missing_values_in_file(dataframe, file, fd):\n",
    "    fd.write(f\"File : {file}\\n\")\n",
    "    for col in dataframe.columns:\n",
    "        n_miss = dataframe[col].isnull().sum()\n",
    "        perc = n_miss / dataframe.shape[0] * 100\n",
    "        if (n_miss > 0):\t\n",
    "            fd.write(f\"\\t{col} : {n_miss} missing values, {perc:.2f}%\\n\")\n",
    "\n",
    "with open(\"missing_values.txt\", \"w\") as fd:\n",
    "    for file in files:\n",
    "        dataframe = pd.read_csv(\"dataset/\" + file)\n",
    "        print_missing_values_in_file(dataframe, file, fd)"
   ]
  }
 ],
 "metadata": {
  "kernelspec": {
   "display_name": "Python 3",
   "language": "python",
   "name": "python3"
  },
  "language_info": {
   "codemirror_mode": {
    "name": "ipython",
    "version": 3
   },
   "file_extension": ".py",
   "mimetype": "text/x-python",
   "name": "python",
   "nbconvert_exporter": "python",
   "pygments_lexer": "ipython3",
   "version": "3.12.8"
  }
 },
 "nbformat": 4,
 "nbformat_minor": 2
}
