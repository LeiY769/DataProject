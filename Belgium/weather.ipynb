{
 "cells": [
  {
   "cell_type": "code",
   "execution_count": 1,
   "metadata": {},
   "outputs": [],
   "source": [
    "import pandas as pd\n",
    "import re\n",
    "from meteostat import Hourly, Point\n",
    "from datetime import datetime"
   ]
  },
  {
   "cell_type": "code",
   "execution_count": 12,
   "metadata": {},
   "outputs": [
    {
     "name": "stdout",
     "output_type": "stream",
     "text": [
      "Fetching data for Bruxelles (50.83642580516115, 4.367414882050033)...\n",
      "Fetching data for Antwerpen (51.231900712244745, 4.721043779498864)...\n",
      "Fetching data for Limburg (50.98831159244354, 5.4357209224443475)...\n",
      "Fetching data for Oost-Vlaanderen (51.03629347952689, 3.8188605810442007)...\n",
      "Fetching data for Vlaams Brabant (50.87303943005528, 4.59072072950776)...\n",
      "Fetching data for West-Vlaanderen (51.01019740435232, 3.0620446668608117)...\n",
      "Fetching data for Brabant Wallon (50.66605965845173, 4.589736973914637)...\n",
      "Fetching data for Hainaut (50.46387637972707, 3.9681364929631004)...\n",
      "Fetching data for Liège (50.518876085615986, 5.7372263688290746)...\n",
      "Fetching data for Luxembourg (49.95849015160492, 5.516735682549194)...\n",
      "Fetching data for Namur (50.252686235186815, 4.862346452029854)...\n",
      "✅ Hourly weather data successfully saved to hourly_weather_data.csv!\n"
     ]
    }
   ],
   "source": [
    "# Load the CSV file with province centroids\n",
    "file_path = \"belgium_provinces_centroids.csv\"  # Change this if needed\n",
    "locations_df = pd.read_csv(file_path)\n",
    "\n",
    "# Function to extract latitude and longitude from 'POINT (lon lat)'\n",
    "def extract_coordinates(point_str):\n",
    "    match = re.match(r\"POINT \\(([-\\d.]+) ([-\\d.]+)\\)\", point_str)\n",
    "    if match:\n",
    "        lon, lat = float(match.group(1)), float(match.group(2))\n",
    "        return lat, lon\n",
    "    return None, None  # Return None if parsing fails\n",
    "\n",
    "# Apply function to extract coordinates\n",
    "locations_df[['Latitude', 'Longitude']] = locations_df['centroid'].apply(lambda x: pd.Series(extract_coordinates(x)))\n",
    "\n",
    "# Define start and end dates for weather data\n",
    "start_date = datetime(2014, 1, 1)\n",
    "end_date = datetime(2025, 1, 1)\n",
    "\n",
    "# Create an empty DataFrame for all weather data\n",
    "all_data = pd.DataFrame()\n",
    "\n",
    "# Loop through each province and fetch hourly weather data\n",
    "for _, row in locations_df.iterrows():\n",
    "    lat, lon = row[\"Latitude\"], row[\"Longitude\"]\n",
    "    province = row[\"NAME_2\"]  # Province name\n",
    "    \n",
    "    if pd.notna(lat) and pd.notna(lon):  # Ensure valid coordinates\n",
    "        print(f\"Fetching data for {province} ({lat}, {lon})...\")\n",
    "        location = Point(lat, lon)\n",
    "        data = Hourly(location, start=start_date, end=end_date).fetch()\n",
    "        \n",
    "        # Add province and coordinate info\n",
    "        data[\"Province\"] = province\n",
    "        \n",
    "        # Append to main DataFrame\n",
    "        all_data = pd.concat([all_data, data])\n",
    "\n",
    "# Save final dataset to CSV\n",
    "output_file = \"hourly_weather_data.csv\"\n",
    "all_data.to_csv(output_file, index=True)\n",
    "\n",
    "print(f\"✅ Hourly weather data successfully saved to {output_file}!\")"
   ]
  }
 ],
 "metadata": {
  "kernelspec": {
   "display_name": "Python 3",
   "language": "python",
   "name": "python3"
  },
  "language_info": {
   "codemirror_mode": {
    "name": "ipython",
    "version": 3
   },
   "file_extension": ".py",
   "mimetype": "text/x-python",
   "name": "python",
   "nbconvert_exporter": "python",
   "pygments_lexer": "ipython3",
   "version": "3.9.13"
  }
 },
 "nbformat": 4,
 "nbformat_minor": 2
}
