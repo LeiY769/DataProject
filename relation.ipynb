{
 "cells": [
  {
   "cell_type": "code",
   "execution_count": 2,
   "metadata": {},
   "outputs": [],
   "source": [
    "import pandas as pd\n",
    "import numpy as np"
   ]
  },
  {
   "cell_type": "code",
   "execution_count": null,
   "metadata": {},
   "outputs": [],
   "source": [
    "df = pd.read_csv('RELATION.csv')\n",
    "\n",
    "df['type'] = 0\n",
    "df.loc[df['RELATION'].str.startswith('S', na=False), 'type'] = 1 \n",
    "df.loc[df['RELATION'].str.startswith('P', na=False), 'type'] = 2\n",
    "df.loc[df['RELATION'].str.startswith('L', na=False), 'type'] = 3\n",
    "df.loc[df['RELATION'].str.startswith('IC', na=False), 'type'] = 4\n",
    "df.loc[df['RELATION'].str.startswith('EXTRA', na=False), 'type'] = 5\n",
    "df.loc[df['RELATION'].str.startswith('ICE', na=False), 'type'] = 6\n",
    "df.loc[df['RELATION'].str.startswith('T', na=False), 'type'] = 6\n",
    "df.loc[df['RELATION'].str.startswith('INT', na=False), 'type'] = 6\n",
    "df.loc[df['RELATION'].str.startswith('ICT', na=False), 'type'] = 7\n",
    "\n",
    "df.to_csv('RELATION.csv', index=False)\n",
    "\n",
    "\n"
   ]
  }
 ],
 "metadata": {
  "kernelspec": {
   "display_name": "Python 3",
   "language": "python",
   "name": "python3"
  },
  "language_info": {
   "codemirror_mode": {
    "name": "ipython",
    "version": 3
   },
   "file_extension": ".py",
   "mimetype": "text/x-python",
   "name": "python",
   "nbconvert_exporter": "python",
   "pygments_lexer": "ipython3",
   "version": "3.10.11"
  }
 },
 "nbformat": 4,
 "nbformat_minor": 2
}
