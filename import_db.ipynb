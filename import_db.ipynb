{
 "cells": [
  {
   "cell_type": "code",
   "execution_count": 1,
   "metadata": {},
   "outputs": [],
   "source": [
    "import pandas as pd\n",
    "import numpy as np\n",
    "import os\n",
    "import sys\n",
    "import sqlalchemy as sqla\n",
    "import csv\n"
   ]
  },
  {
   "cell_type": "code",
   "execution_count": 2,
   "metadata": {},
   "outputs": [],
   "source": [
    "DB_NAME = \"postgres\"\n",
    "DB_USER = \"postgres\"\n",
    "DB_PASS = \"postgres\"\n",
    "DB_HOST = \"localhost\"\n",
    "DB_PORT = \"5432\"\n",
    "\n",
    "SQL_INIT = \"init.sql\"\n",
    "\n",
    "engine = sqla.create_engine(f\"postgresql://{DB_USER}:{DB_PASS}@{DB_HOST}:{DB_PORT}/{DB_NAME}\")"
   ]
  },
  {
   "cell_type": "markdown",
   "metadata": {},
   "source": [
    "# Database initialization"
   ]
  },
  {
   "cell_type": "code",
   "execution_count": 3,
   "metadata": {},
   "outputs": [
    {
     "name": "stdout",
     "output_type": "stream",
     "text": [
      "Database initialized\n"
     ]
    }
   ],
   "source": [
    "try:\n",
    "    with open(SQL_INIT, \"r\") as f:\n",
    "        query = f.read()\n",
    "        with engine.connect() as conn:\n",
    "            conn.execute(sqla.text(query))\n",
    "        print(\"Database initialized\")\n",
    "except Exception as e:\n",
    "    print(e)\n",
    "    exit()"
   ]
  },
  {
   "cell_type": "markdown",
   "metadata": {},
   "source": [
    "## Stations"
   ]
  },
  {
   "cell_type": "code",
   "execution_count": 4,
   "metadata": {},
   "outputs": [
    {
     "name": "stdout",
     "output_type": "stream",
     "text": [
      "Stations loaded\n"
     ]
    }
   ],
   "source": [
    "STATIONS_FILE = \"better_station.csv\"\n",
    "try:\n",
    "    conn = engine.raw_connection()\n",
    "    cursor = conn.cursor()\n",
    "    with(open(STATIONS_FILE, \"r\")) as f:\n",
    "        cursor.copy_expert(\n",
    "        \"\"\"\n",
    "            COPY stations FROM STDIN WITH CSV HEADER DELIMITER ',' NULL ''\n",
    "        \"\"\",f)\n",
    "    conn.commit()\n",
    "    cursor.close()\n",
    "    print(\"Stations loaded\")\n",
    "except Exception as e:\n",
    "    print(e)\n",
    "    exit()"
   ]
  },
  {
   "cell_type": "markdown",
   "metadata": {},
   "source": [
    "## Services"
   ]
  },
  {
   "cell_type": "code",
   "execution_count": 5,
   "metadata": {},
   "outputs": [
    {
     "name": "stdout",
     "output_type": "stream",
     "text": [
      "Service loaded\n"
     ]
    }
   ],
   "source": [
    "SERVICE_FILE = \"TRAIN_SERV.csv\"\n",
    "\n",
    "try:\n",
    "    conn = engine.raw_connection()\n",
    "    cursor = conn.cursor()\n",
    "    with(open(SERVICE_FILE, \"r\")) as f:\n",
    "        cursor.copy_expert(\n",
    "        \"\"\"\n",
    "            COPY service FROM STDIN WITH CSV HEADER DELIMITER ',' NULL ''\n",
    "        \"\"\",f)\n",
    "    conn.commit()\n",
    "    cursor.close()\n",
    "    print(\"Service loaded\")\n",
    "except Exception as e:\n",
    "    print(e)\n",
    "    exit()"
   ]
  },
  {
   "cell_type": "markdown",
   "metadata": {},
   "source": [
    "## RELATION"
   ]
  },
  {
   "cell_type": "code",
   "execution_count": null,
   "metadata": {},
   "outputs": [],
   "source": [
    "RELATION_FILE = \"RELATION.csv\"\n",
    "\n",
    "try:\n",
    "    conn = engine.raw_connection()\n",
    "    cursor = conn.cursor()\n",
    "    with(open(RELATION_FILE, \"r\")) as f:\n",
    "        cursor.copy_expert(\n",
    "        \"\"\"\n",
    "            COPY relation FROM STDIN WITH CSV HEADER DELIMITER ',' NULL ''\n",
    "        \"\"\",f)\n",
    "    conn.commit()\n",
    "    cursor.close()\n",
    "    print(\"RELATION loaded\")\n",
    "except Exception as e:\n",
    "    print(e)\n",
    "    exit()"
   ]
  },
  {
   "cell_type": "markdown",
   "metadata": {},
   "source": [
    "## REGION"
   ]
  },
  {
   "cell_type": "code",
   "execution_count": null,
   "metadata": {},
   "outputs": [],
   "source": [
    "REGION_FILE = \"REGION.csv\"\n",
    "\n",
    "try:\n",
    "    conn = engine.raw_connection()\n",
    "    cursor = conn.cursor()\n",
    "    with(open(REGION_FILE, \"r\")) as f:\n",
    "        cursor.copy_expert(\n",
    "        \"\"\"\n",
    "            COPY region FROM STDIN WITH CSV HEADER DELIMITER ',' NULL ''\n",
    "        \"\"\",f)\n",
    "    conn.commit()\n",
    "    cursor.close()\n",
    "    print(\"REGION loaded\")\n",
    "except Exception as e:\n",
    "    print(e)\n",
    "    exit()"
   ]
  },
  {
   "cell_type": "markdown",
   "metadata": {},
   "source": [
    "## Dataset"
   ]
  },
  {
   "cell_type": "code",
   "execution_count": null,
   "metadata": {},
   "outputs": [
    {
     "name": "stdout",
     "output_type": "stream",
     "text": [
      "Data_raw_punctuality_201401.csv loaded\n"
     ]
    }
   ],
   "source": [
    "# We now load the datasets into the database\n",
    "DATASET_DIR = \"cleaned_dataset\"\n",
    "DATASET_FILES = os.listdir(DATASET_DIR)\n",
    "\n",
    "for file in DATASET_FILES:\n",
    "    try:\n",
    "        conn = engine.raw_connection()\n",
    "        cursor = conn.cursor()\n",
    "        with(open(f\"{DATASET_DIR}/{file}\", \"r\")) as f:\n",
    "            cursor.copy_expert(\n",
    "            \"\"\"\n",
    "                COPY train_data FROM STDIN WITH CSV HEADER DELIMITER ',' NULL ''\n",
    "            \"\"\",f)\n",
    "        conn.commit()\n",
    "        cursor.close()\n",
    "        print(f\"{file} loaded\")\n",
    "    except Exception as e:\n",
    "        print(f\"Error loading {file}: {e}\")\n",
    "        exit()"
   ]
  },
  {
   "cell_type": "markdown",
   "metadata": {},
   "source": [
    "## WEATHER"
   ]
  },
  {
   "cell_type": "code",
   "execution_count": null,
   "metadata": {},
   "outputs": [],
   "source": [
    "WEATHER_FILE = \"belgium_hourly_weather_2014_2024.csv\"\n",
    "\n",
    "try:\n",
    "    conn = engine.raw_connection()\n",
    "    cursor = conn.cursor()\n",
    "    with(open(WEATHER_FILE, \"r\")) as f:\n",
    "        cursor.copy_expert(\n",
    "        \"\"\"\n",
    "            COPY weather FROM STDIN WITH CSV HEADER DELIMITER ',' NULL ''\n",
    "        \"\"\",f)\n",
    "    conn.commit()\n",
    "    cursor.close()\n",
    "    print(\"weather loaded\")\n",
    "except Exception as e:\n",
    "    print(e)\n",
    "    exit()"
   ]
  }
 ],
 "metadata": {
  "kernelspec": {
   "display_name": "Python 3",
   "language": "python",
   "name": "python3"
  },
  "language_info": {
   "codemirror_mode": {
    "name": "ipython",
    "version": 3
   },
   "file_extension": ".py",
   "mimetype": "text/x-python",
   "name": "python",
   "nbconvert_exporter": "python",
   "pygments_lexer": "ipython3",
   "version": "3.12.8"
  }
 },
 "nbformat": 4,
 "nbformat_minor": 2
}
