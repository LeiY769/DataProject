{
 "cells": [
  {
   "cell_type": "code",
   "execution_count": 1,
   "metadata": {},
   "outputs": [],
   "source": [
    "import pandas as pd\n",
    "import numpy as np\n",
    "import os\n",
    "import sys\n",
    "import sqlalchemy as sqla\n",
    "import csv\n",
    "import matplotlib.pyplot as plt\n",
    "import plotly.express as px\n",
    "from shapely import wkb"
   ]
  },
  {
   "cell_type": "markdown",
   "metadata": {},
   "source": [
    "## DATABASE CONNECTION"
   ]
  },
  {
   "cell_type": "code",
   "execution_count": 2,
   "metadata": {},
   "outputs": [
    {
     "name": "stdout",
     "output_type": "stream",
     "text": [
      "Connected to PostgreSQL successfully!\n"
     ]
    }
   ],
   "source": [
    "DB_USER = \"postgres\"\n",
    "DB_PASSWORD = \"a\"\n",
    "DB_HOST = \"localhost\"\n",
    "DB_PORT = \"5432\"\n",
    "DB_NAME = \"postgres\"\n",
    "\n",
    "connection_string = f\"postgresql+psycopg2://{DB_USER}:{DB_PASSWORD}@{DB_HOST}:{DB_PORT}/{DB_NAME}\"\n",
    "\n",
    "# Créer un moteur SQLAlchemy\n",
    "engine = sqla.create_engine(connection_string)\n",
    "\n",
    "# Tester la connexion\n",
    "try:\n",
    "    with engine.connect() as connection:\n",
    "        print(\"Connected to PostgreSQL successfully!\")\n",
    "except Exception as e:\n",
    "    print(f\"Error: {e}\")\n",
    "\n",
    "connection = engine.connect()"
   ]
  },
  {
   "cell_type": "markdown",
   "metadata": {},
   "source": [
    "## IMPORT DATA"
   ]
  },
  {
   "cell_type": "code",
   "execution_count": 9,
   "metadata": {},
   "outputs": [],
   "source": [
    "connection.rollback()"
   ]
  },
  {
   "cell_type": "code",
   "execution_count": 102,
   "metadata": {},
   "outputs": [
    {
     "name": "stdout",
     "output_type": "stream",
     "text": [
      "         date  hour_of_day  avg_temperature  avg_dewpoint  \\\n",
      "0  2014-01-01          0.0         5.400000      3.845455   \n",
      "1  2014-01-01          1.0         5.940000      4.150000   \n",
      "2  2014-01-01          2.0         5.609091      3.681818   \n",
      "3  2014-01-01          3.0         5.072727      3.145455   \n",
      "4  2014-01-01          4.0         5.100000      3.118182   \n",
      "\n",
      "   avg_relative_humidity  avg_precipitation  avg_snowfall  avg_wind_direction  \\\n",
      "0              90.818182           0.045455           0.0          208.181818   \n",
      "1              89.300000           0.080000           0.0          210.000000   \n",
      "2              88.454545           0.009091           0.0          212.727273   \n",
      "3              88.545455           0.000000           0.0          206.363636   \n",
      "4              88.000000           0.009091           0.0          200.000000   \n",
      "\n",
      "   avg_wind_speed  avg_pressure  \n",
      "0       18.327273   1009.318187  \n",
      "1       18.360000   1009.379999  \n",
      "2       18.000000   1009.945451  \n",
      "3       17.645455   1009.945462  \n",
      "4       17.018182   1009.809088  \n",
      "(96407, 10)\n"
     ]
    }
   ],
   "source": [
    "query = \"\"\"\n",
    "SELECT \n",
    "w.date,\n",
    "EXTRACT(HOUR FROM w.hour) AS hour_of_day,\n",
    "AVG(w.temperature) AS avg_temperature,\n",
    "AVG(w.dewpoint) AS avg_dewpoint,\n",
    "AVG(w.relative_humidity) AS avg_relative_humidity,\n",
    "AVG(w.precipitation) AS avg_precipitation,\n",
    "AVG(w.snowfall) AS avg_snowfall,\n",
    "AVG(w.wind_direction) AS avg_wind_direction,\n",
    "AVG(w.wind_speed) AS avg_wind_speed,\n",
    "AVG(w.pressure) AS avg_pressure\n",
    "FROM WEATHER w\n",
    "GROUP BY w.date, hour_of_day\n",
    "ORDER BY w.date, hour_of_day;\n",
    "\"\"\"\n",
    "\n",
    "weather = pd.read_sql(sqla.text(query), connection)\n",
    "\n",
    "print(weather.head())\n",
    "print(weather.shape)\n"
   ]
  },
  {
   "cell_type": "code",
   "execution_count": 103,
   "metadata": {},
   "outputs": [
    {
     "name": "stdout",
     "output_type": "stream",
     "text": [
      "         date  hour_of_day  avg_delay_arrival  avg_delay_departure\n",
      "0  2014-01-01          0.0         294.669767           342.465116\n",
      "1  2014-01-01          1.0          22.523810            47.571429\n",
      "2  2014-01-01          4.0          15.243902            29.804878\n",
      "3  2014-01-01          5.0          21.412399            33.870620\n",
      "4  2014-01-01          6.0          28.685057            41.846743\n",
      "(94434, 4)\n"
     ]
    }
   ],
   "source": [
    "query = \"\"\"\n",
    "    SELECT \n",
    "        t.departure_date AS date,\n",
    "        EXTRACT(HOUR FROM t.real_time_departure) AS hour_of_day,\n",
    "        AVG(t.delay_arrival) AS avg_delay_arrival,\n",
    "        AVG(t.delay_departure) AS avg_delay_departure\n",
    "    FROM TRAIN_DATA t\n",
    "    GROUP BY t.departure_date, hour_of_day\n",
    "    ORDER BY t.departure_date, hour_of_day;\n",
    "\"\"\"\n",
    "\n",
    "train_data = pd.read_sql(sqla.text(query), connection)\n",
    "\n",
    "print(train_data.head())\n",
    "print(train_data.shape)"
   ]
  },
  {
   "cell_type": "code",
   "execution_count": 3,
   "metadata": {},
   "outputs": [
    {
     "name": "stdout",
     "output_type": "stream",
     "text": [
      "         date  holiday  weekend  day_after_rest\n",
      "0  2014-01-01        2    False           False\n",
      "1  2014-01-02        1    False           False\n",
      "2  2014-01-03        1    False           False\n",
      "3  2014-01-04        1     True           False\n",
      "4  2014-01-05        1     True           False\n",
      "(4018, 4)\n"
     ]
    }
   ],
   "source": [
    "query = \"\"\"\n",
    "    SELECT * FROM TYPE_DAY;\n",
    "\"\"\"\n",
    "\n",
    "type_day = pd.read_sql(sqla.text(query), connection)\n",
    "\n",
    "print(type_day.head())\n",
    "print(type_day.shape)"
   ]
  },
  {
   "cell_type": "code",
   "execution_count": 105,
   "metadata": {},
   "outputs": [
    {
     "name": "stdout",
     "output_type": "stream",
     "text": [
      "(90390, 16)\n"
     ]
    }
   ],
   "source": [
    "merged_df = train_data.merge(weather, on=[\"date\", \"hour_of_day\"], how=\"inner\")\n",
    "\n",
    "merged_df = type_day.merge(merged_df, on=[\"date\"], how=\"inner\")\n",
    "\n",
    "merged_df['date'] = pd.to_datetime(merged_df['date'])\n",
    "\n",
    "merged_df['date'] = merged_df['date'].dt.dayofyear\n",
    "\n",
    "merged_df['day_sin'] = np.sin(2 * np.pi * merged_df['date'] / 365)\n",
    "merged_df['day_cos'] = np.cos(2 * np.pi * merged_df['date'] / 365)\n",
    "\n",
    "# Drop the original 'date' column\n",
    "merged_df.drop(columns=['date'], inplace=True)\n",
    "\n",
    "print(merged_df.shape)\n"
   ]
  },
  {
   "cell_type": "code",
   "execution_count": 106,
   "metadata": {},
   "outputs": [
    {
     "name": "stdout",
     "output_type": "stream",
     "text": [
      "   holiday  weekend  day_after_rest  hour_of_day  avg_delay_arrival  \\\n",
      "0        2    False           False          0.0         294.669767   \n",
      "1        2    False           False          1.0          22.523810   \n",
      "2        2    False           False          4.0          15.243902   \n",
      "3        2    False           False          5.0          21.412399   \n",
      "4        2    False           False          6.0          28.685057   \n",
      "\n",
      "   avg_delay_departure  avg_temperature  avg_dewpoint  avg_relative_humidity  \\\n",
      "0           342.465116         5.400000      3.845455              90.818182   \n",
      "1            47.571429         5.940000      4.150000              89.300000   \n",
      "2            29.804878         5.100000      3.118182              88.000000   \n",
      "3            33.870620         4.945455      2.981818              88.181818   \n",
      "4            41.846743         4.909091      2.918182              88.000000   \n",
      "\n",
      "   avg_precipitation  avg_snowfall  avg_wind_direction  avg_wind_speed  \\\n",
      "0           0.045455           0.0          208.181818       18.327273   \n",
      "1           0.080000           0.0          210.000000       18.360000   \n",
      "2           0.009091           0.0          200.000000       17.018182   \n",
      "3           0.000000           0.0          196.363636       18.981818   \n",
      "4           0.000000           0.0          193.636364       19.309091   \n",
      "\n",
      "   avg_pressure   day_sin   day_cos  \n",
      "0   1009.318187  0.017213  0.999852  \n",
      "1   1009.379999  0.017213  0.999852  \n",
      "2   1009.809088  0.017213  0.999852  \n",
      "3   1009.836365  0.017213  0.999852  \n",
      "4   1009.672729  0.017213  0.999852  \n"
     ]
    }
   ],
   "source": [
    "print (merged_df.head())"
   ]
  },
  {
   "cell_type": "code",
   "execution_count": 43,
   "metadata": {},
   "outputs": [
    {
     "name": "stdout",
     "output_type": "stream",
     "text": [
      "Mean Squared Error:  531337.9124018488\n",
      "R2 Score:  -0.13529179128208701\n",
      "Mean Absolute Error:  163.91384669308547\n"
     ]
    }
   ],
   "source": [
    "\n",
    "x = merged_df[[\"avg_temperature\", \"avg_dewpoint\", \"avg_relative_humidity\", \"avg_precipitation\", \"avg_snowfall\", \"avg_wind_direction\", \"avg_wind_speed\", \"avg_pressure\"]]\n",
    "y = merged_df[\"avg_delay_departure\"]\n",
    "\n",
    "from sklearn.model_selection import train_test_split\n",
    "\n",
    "x_train, x_test, y_train, y_test = train_test_split(x, y, test_size=0.2, random_state=42)\n",
    "\n",
    "from sklearn.neighbors import KNeighborsRegressor\n",
    "\n",
    "knn = KNeighborsRegressor(n_neighbors=5)\n",
    "knn.fit(x_train, y_train)\n",
    "\n",
    "y_pred = knn.predict(x_test)\n",
    "\n",
    "from sklearn.metrics import mean_squared_error,r2_score,mean_absolute_error\n",
    "\n",
    "print(\"Mean Squared Error: \", mean_squared_error(y_test, y_pred))\n",
    "print(\"R2 Score: \", r2_score(y_test, y_pred))\n",
    "print(\"Mean Absolute Error: \", mean_absolute_error(y_test, y_pred))"
   ]
  },
  {
   "cell_type": "code",
   "execution_count": 25,
   "metadata": {},
   "outputs": [
    {
     "name": "stdout",
     "output_type": "stream",
     "text": [
      "Mean Squared Error:  507494.5035701079\n",
      "R2 Score:  -0.08434638405433037\n",
      "Mean Absolute Error:  157.56706061770157\n"
     ]
    }
   ],
   "source": [
    "from sklearn.ensemble import RandomForestRegressor\n",
    "\n",
    "rf = RandomForestRegressor(n_estimators=100, random_state=42)\n",
    "rf.fit(x_train, y_train)\n",
    "\n",
    "y_pred = rf.predict(x_test)\n",
    "\n",
    "print(\"Mean Squared Error: \", mean_squared_error(y_test, y_pred))\n",
    "print(\"R2 Score: \", r2_score(y_test, y_pred))\n",
    "print(\"Mean Absolute Error: \", mean_absolute_error(y_test, y_pred))\n"
   ]
  },
  {
   "cell_type": "code",
   "execution_count": 112,
   "metadata": {},
   "outputs": [
    {
     "name": "stdout",
     "output_type": "stream",
     "text": [
      "Mean Squared Error:  481390.109166755\n",
      "R2 Score:  0.013408413587793877\n",
      "Mean Absolute Error:  138.94037823182717\n"
     ]
    }
   ],
   "source": [
    "x = merged_df[[\"day_cos\", \"day_sin\",\"holiday\", \"weekend\", \"day_after_rest\",\"hour_of_day\",\"avg_temperature\", \"avg_dewpoint\", \"avg_relative_humidity\", \"avg_precipitation\", \"avg_snowfall\", \"avg_wind_direction\", \"avg_wind_speed\", \"avg_pressure\"]]\n",
    "y = merged_df[\"avg_delay_departure\"]\n",
    "\n",
    "x_train, x_test, y_train, y_test = train_test_split(x, y, test_size=0.3, random_state=42)\n",
    "\n",
    "knn = KNeighborsRegressor(n_neighbors=250)\n",
    "knn.fit(x_train, y_train)\n",
    "\n",
    "y_pred = knn.predict(x_test)\n",
    "\n",
    "print(\"Mean Squared Error: \", mean_squared_error(y_test, y_pred))\n",
    "print(\"R2 Score: \", r2_score(y_test, y_pred))\n",
    "print(\"Mean Absolute Error: \", mean_absolute_error(y_test, y_pred))\n"
   ]
  },
  {
   "cell_type": "code",
   "execution_count": 113,
   "metadata": {},
   "outputs": [
    {
     "name": "stdout",
     "output_type": "stream",
     "text": [
      "Mean Squared Error:  428439.7794977397\n",
      "R2 Score:  0.12192819568225077\n",
      "Mean Absolute Error:  107.03895679989093\n"
     ]
    }
   ],
   "source": [
    "rf = RandomForestRegressor(n_estimators=100, random_state=42)\n",
    "rf.fit(x_train, y_train)\n",
    "\n",
    "y_pred = rf.predict(x_test)\n",
    "\n",
    "print(\"Mean Squared Error: \", mean_squared_error(y_test, y_pred))\n",
    "print(\"R2 Score: \", r2_score(y_test, y_pred))\n",
    "print(\"Mean Absolute Error: \", mean_absolute_error(y_test, y_pred))\n"
   ]
  },
  {
   "cell_type": "markdown",
   "metadata": {},
   "source": [
    "## PER DAY BY YEAR"
   ]
  },
  {
   "cell_type": "code",
   "execution_count": 4,
   "metadata": {},
   "outputs": [
    {
     "name": "stdout",
     "output_type": "stream",
     "text": [
      "         date  avg_delay_arrival  avg_delay_departure\n",
      "0  2014-01-01          38.000104            47.338924\n",
      "1  2014-01-02          61.479792            69.302843\n",
      "2  2014-01-03         131.355574           137.877869\n",
      "3  2014-01-04          73.400835            81.274319\n",
      "4  2014-01-05          63.745558            71.634720\n",
      "(4018, 3)\n"
     ]
    }
   ],
   "source": [
    "query = \"\"\"\n",
    "    SELECT \n",
    "        t.departure_date AS date,\n",
    "        AVG(t.delay_arrival) AS avg_delay_arrival,\n",
    "        AVG(t.delay_departure) AS avg_delay_departure\n",
    "    FROM TRAIN_DATA t\n",
    "    GROUP BY t.departure_date\n",
    "    ORDER BY t.departure_date;\n",
    "\"\"\"\n",
    "\n",
    "train_data = pd.read_sql(sqla.text(query), connection)\n",
    "\n",
    "print(train_data.head())\n",
    "print(train_data.shape)"
   ]
  },
  {
   "cell_type": "code",
   "execution_count": 5,
   "metadata": {},
   "outputs": [
    {
     "name": "stdout",
     "output_type": "stream",
     "text": [
      "         date  avg_temperature  avg_dewpoint  avg_relative_humidity  \\\n",
      "0  2014-01-01         6.834615      4.222308              84.692308   \n",
      "1  2014-01-02         8.257252      5.640076              84.694656   \n",
      "2  2014-01-03         8.838931      5.646947              81.770992   \n",
      "3  2014-01-04         7.535938      4.859375              84.109375   \n",
      "4  2014-01-05         4.975379      2.743182              86.128788   \n",
      "\n",
      "   avg_precipitation  avg_snowfall  avg_wind_direction  avg_wind_speed  \\\n",
      "0           0.005769           0.0          187.846154       24.132693   \n",
      "1           0.029008           0.0          202.900763       22.245802   \n",
      "2           0.017557           0.0          204.809160       26.137023   \n",
      "3           0.000000           0.0          179.062500       19.125000   \n",
      "4           0.014015           0.0          206.742424       17.959091   \n",
      "\n",
      "   avg_pressure  \n",
      "0   1005.357310  \n",
      "1   1000.038171  \n",
      "2   1003.428245  \n",
      "3   1001.156251  \n",
      "4   1006.122729  \n",
      "(4019, 9)\n"
     ]
    }
   ],
   "source": [
    "query = \"\"\"\n",
    "SELECT \n",
    "w.date,\n",
    "AVG(w.temperature) AS avg_temperature,\n",
    "AVG(w.dewpoint) AS avg_dewpoint,\n",
    "AVG(w.relative_humidity) AS avg_relative_humidity,\n",
    "AVG(w.precipitation) AS avg_precipitation,\n",
    "AVG(w.snowfall) AS avg_snowfall,\n",
    "AVG(w.wind_direction) AS avg_wind_direction,\n",
    "AVG(w.wind_speed) AS avg_wind_speed,\n",
    "AVG(w.pressure) AS avg_pressure\n",
    "FROM WEATHER w\n",
    "GROUP BY w.date\n",
    "ORDER BY w.date;\n",
    "\"\"\"\n",
    "\n",
    "weather = pd.read_sql(sqla.text(query), connection)\n",
    "\n",
    "print(weather.head())\n",
    "print(weather.shape)"
   ]
  },
  {
   "cell_type": "code",
   "execution_count": null,
   "metadata": {},
   "outputs": [
    {
     "name": "stdout",
     "output_type": "stream",
     "text": [
      "(4018, 15)\n",
      "   holiday  weekend  day_after_rest  avg_delay_arrival  avg_delay_departure  \\\n",
      "0        2    False           False          38.000104            47.338924   \n",
      "1        1    False           False          61.479792            69.302843   \n",
      "2        1    False           False         131.355574           137.877869   \n",
      "3        1     True           False          73.400835            81.274319   \n",
      "4        1     True           False          63.745558            71.634720   \n",
      "\n",
      "   avg_temperature  avg_dewpoint  avg_relative_humidity  avg_precipitation  \\\n",
      "0         6.834615      4.222308              84.692308           0.005769   \n",
      "1         8.257252      5.640076              84.694656           0.029008   \n",
      "2         8.838931      5.646947              81.770992           0.017557   \n",
      "3         7.535938      4.859375              84.109375           0.000000   \n",
      "4         4.975379      2.743182              86.128788           0.014015   \n",
      "\n",
      "   avg_snowfall  avg_wind_direction  avg_wind_speed  avg_pressure   day_sin  \\\n",
      "0           0.0          187.846154       24.132693   1005.357310  0.017213   \n",
      "1           0.0          202.900763       22.245802   1000.038171  0.034422   \n",
      "2           0.0          204.809160       26.137023   1003.428245  0.051620   \n",
      "3           0.0          179.062500       19.125000   1001.156251  0.068802   \n",
      "4           0.0          206.742424       17.959091   1006.122729  0.085965   \n",
      "\n",
      "    day_cos  \n",
      "0  0.999852  \n",
      "1  0.999407  \n",
      "2  0.998667  \n",
      "3  0.997630  \n",
      "4  0.996298  \n"
     ]
    }
   ],
   "source": [
    "merged_df = train_data.merge(weather, on=[\"date\"], how=\"inner\")\n",
    "\n",
    "merged_df = type_day.merge(merged_df, on=[\"date\"], how=\"inner\")\n",
    "\n",
    "merged_df['date'] = pd.to_datetime(merged_df['date'])\n",
    "\n",
    "#merged_df = merged_df[merged_df['date'] < '2020-01-01']\n",
    "\n",
    "merged_df['date'] = merged_df['date'].dt.dayofyear\n",
    "\n",
    "merged_df['day_sin'] = np.sin(2 * np.pi * merged_df['date'] / 365)\n",
    "merged_df['day_cos'] = np.cos(2 * np.pi * merged_df['date'] / 365)\n",
    "\n",
    "# Drop the original 'date' column\n",
    "merged_df.drop(columns=['date'], inplace=True)\n",
    "\n",
    "print(merged_df.shape)\n",
    "print(merged_df.head())\n"
   ]
  },
  {
   "cell_type": "code",
   "execution_count": 23,
   "metadata": {},
   "outputs": [
    {
     "name": "stdout",
     "output_type": "stream",
     "text": [
      "Mean Squared Error:  3241.8533173268224\n",
      "R2 Score:  -0.04886225902176444\n",
      "Mean Absolute Error:  40.84741081486904\n"
     ]
    }
   ],
   "source": [
    "from sklearn.model_selection import train_test_split\n",
    "from sklearn.neighbors import KNeighborsRegressor\n",
    "from sklearn.metrics import mean_squared_error,r2_score,mean_absolute_error\n",
    "\n",
    "x = merged_df[[\"day_sin\",\"day_cos\",\"holiday\",\"weekend\", \"day_after_rest\", \"avg_temperature\", \"avg_dewpoint\", \"avg_relative_humidity\", \"avg_precipitation\", \"avg_snowfall\", \"avg_wind_direction\", \"avg_wind_speed\", \"avg_pressure\"]]\n",
    "y = merged_df[\"avg_delay_departure\"]\n",
    "\n",
    "x_train, x_test, y_train, y_test = train_test_split(x, y, test_size=0.3, random_state=42)\n",
    "\n",
    "knn = KNeighborsRegressor(n_neighbors=100)\n",
    "knn.fit(x_train, y_train)\n",
    "\n",
    "y_pred = knn.predict(x_test)\n",
    "\n",
    "print(\"Mean Squared Error: \", mean_squared_error(y_test, y_pred))\n",
    "print(\"R2 Score: \", r2_score(y_test, y_pred))\n",
    "print(\"Mean Absolute Error: \", mean_absolute_error(y_test, y_pred))\n",
    "\n"
   ]
  },
  {
   "cell_type": "code",
   "execution_count": 98,
   "metadata": {},
   "outputs": [
    {
     "name": "stdout",
     "output_type": "stream",
     "text": [
      "Mean Squared Error:  2697.6539911035447\n",
      "R2 Score:  0.1463954654610069\n",
      "Mean Absolute Error:  33.971029463448154\n"
     ]
    }
   ],
   "source": [
    "\n",
    "rf = RandomForestRegressor(n_estimators=100, random_state=0)\n",
    "rf.fit(x_train, y_train)\n",
    "\n",
    "y_pred = rf.predict(x_test)\n",
    "\n",
    "print(\"Mean Squared Error: \", mean_squared_error(y_test, y_pred))\n",
    "print(\"R2 Score: \", r2_score(y_test, y_pred))\n",
    "print(\"Mean Absolute Error: \", mean_absolute_error(y_test, y_pred))\n"
   ]
  },
  {
   "cell_type": "code",
   "execution_count": 24,
   "metadata": {},
   "outputs": [
    {
     "name": "stdout",
     "output_type": "stream",
     "text": [
      "Mean Squared Error:  2440.1007524901443\n",
      "R2 Score:  0.21053504369904663\n",
      "Mean Absolute Error:  35.32359798678172\n"
     ]
    }
   ],
   "source": [
    "from sklearn.kernel_ridge import KernelRidge\n",
    "\n",
    "kr = KernelRidge(alpha=1.0)\n",
    "kr.fit(x_train, y_train)\n",
    "\n",
    "y_pred = kr.predict(x_test)\n",
    "\n",
    "print(\"Mean Squared Error: \", mean_squared_error(y_test, y_pred))\n",
    "print(\"R2 Score: \", r2_score(y_test, y_pred))\n",
    "print(\"Mean Absolute Error: \", mean_absolute_error(y_test, y_pred))\n"
   ]
  },
  {
   "cell_type": "code",
   "execution_count": 100,
   "metadata": {},
   "outputs": [
    {
     "name": "stdout",
     "output_type": "stream",
     "text": [
      "Mean Squared Error:  2703.0542932978537\n",
      "R2 Score:  0.14468667609953012\n",
      "Mean Absolute Error:  36.4728087372331\n"
     ]
    }
   ],
   "source": [
    "from sklearn.linear_model import LinearRegression\n",
    "\n",
    "lr = LinearRegression()\n",
    "lr.fit(x_train, y_train)\n",
    "\n",
    "y_pred = lr.predict(x_test)\n",
    "\n",
    "print(\"Mean Squared Error: \", mean_squared_error(y_test, y_pred))\n",
    "print(\"R2 Score: \", r2_score(y_test, y_pred))\n",
    "print(\"Mean Absolute Error: \", mean_absolute_error(y_test, y_pred))"
   ]
  },
  {
   "cell_type": "code",
   "execution_count": null,
   "metadata": {},
   "outputs": [
    {
     "name": "stdout",
     "output_type": "stream",
     "text": [
      "Mean Squared Error:  2401.331954487562\n",
      "R2 Score:  0.24015909673966462\n",
      "Mean Absolute Error:  33.35014114770965\n"
     ]
    }
   ],
   "source": [
    "from sklearn.ensemble import BaggingRegressor\n",
    "\n",
    "br = BaggingRegressor(estimator=RandomForestRegressor(), n_estimators=100, random_state=0)\n",
    "br.fit(x_train, y_train)\n",
    "\n",
    "y_pred = br.predict(x_test)\n",
    "\n",
    "print(\"Mean Squared Error: \", mean_squared_error(y_test, y_pred))\n",
    "print(\"R2 Score: \", r2_score(y_test, y_pred))\n",
    "print(\"Mean Absolute Error: \", mean_absolute_error(y_test, y_pred))\n"
   ]
  },
  {
   "cell_type": "code",
   "execution_count": null,
   "metadata": {},
   "outputs": [
    {
     "name": "stdout",
     "output_type": "stream",
     "text": [
      "Mean Squared Error:  2191.5137173883195\n",
      "R2 Score:  0.29096235908894197\n",
      "Mean Absolute Error:  32.651019344569974\n"
     ]
    }
   ],
   "source": [
    "#Doinh it with date before 2020 01-01\n",
    "from sklearn.ensemble import BaggingRegressor\n",
    "from sklearn.ensemble import RandomForestRegressor\n",
    "\n",
    "x = merged_df[[\"day_sin\",\"day_cos\",\"holiday\",\"weekend\", \"day_after_rest\", \"avg_temperature\", \"avg_dewpoint\", \"avg_relative_humidity\", \"avg_precipitation\", \"avg_snowfall\", \"avg_wind_direction\", \"avg_wind_speed\", \"avg_pressure\"]]\n",
    "y = merged_df[\"avg_delay_departure\"]\n",
    "\n",
    "\n",
    "\n",
    "x_train, x_test, y_train, y_test = train_test_split(x, y, test_size=0.3, random_state=42)\n",
    "\n",
    "br = BaggingRegressor(estimator=RandomForestRegressor(), n_estimators=100, random_state=0)\n",
    "br.fit(x_train, y_train)\n",
    "\n",
    "y_pred = br.predict(x_test)\n",
    "\n",
    "print(\"Mean Squared Error: \", mean_squared_error(y_test, y_pred))\n",
    "print(\"R2 Score: \", r2_score(y_test, y_pred))\n",
    "print(\"Mean Absolute Error: \", mean_absolute_error(y_test, y_pred))\n",
    "\n",
    "\n"
   ]
  },
  {
   "cell_type": "markdown",
   "metadata": {},
   "source": [
    "\n",
    "## Testing with classifier"
   ]
  },
  {
   "cell_type": "code",
   "execution_count": 35,
   "metadata": {},
   "outputs": [
    {
     "name": "stdout",
     "output_type": "stream",
     "text": [
      "126.34536788896814\n",
      "(4018,)\n",
      "Accuracy:  0.736318407960199\n",
      "Confusion Matrix: \n",
      " [[449 152]\n",
      " [166 439]]\n"
     ]
    }
   ],
   "source": [
    "\n",
    "\n",
    "x = merged_df[[\"day_sin\",\"day_cos\",\"holiday\",\"weekend\", \"day_after_rest\", \"avg_temperature\", \"avg_dewpoint\", \"avg_relative_humidity\", \"avg_precipitation\", \"avg_snowfall\", \"avg_wind_direction\", \"avg_wind_speed\", \"avg_pressure\"]]\n",
    "y = merged_df[\"avg_delay_departure\"]\n",
    "\n",
    "median_y = y.median()\n",
    "print(median_y)\n",
    "\n",
    "new_y = y.apply(lambda x: 1 if x > median_y else 0)\n",
    "print(new_y.shape)\n",
    "\n",
    "\n",
    "x_train, x_test, y_train, y_test = train_test_split(x, new_y, test_size=0.3, random_state=42)\n",
    "\n",
    "from sklearn.ensemble import RandomForestClassifier\n",
    "\n",
    "rf = RandomForestClassifier(n_estimators=100, random_state=0)\n",
    "rf.fit(x_train, y_train)\n",
    "\n",
    "y_pred = rf.predict(x_test)\n",
    "\n",
    "from sklearn.metrics import accuracy_score,confusion_matrix\n",
    "print(\"Accuracy: \", accuracy_score(y_test, y_pred))\n",
    "print(\"Confusion Matrix: \\n\", confusion_matrix(y_test, y_pred))\n",
    "\n"
   ]
  },
  {
   "cell_type": "code",
   "execution_count": 36,
   "metadata": {},
   "outputs": [
    {
     "name": "stdout",
     "output_type": "stream",
     "text": [
      "         date  hour_of_day  avg_temperature  avg_dewpoint  \\\n",
      "0  2014-01-01          0.0         5.400000      3.845455   \n",
      "1  2014-01-01          1.0         5.940000      4.150000   \n",
      "2  2014-01-01          2.0         5.609091      3.681818   \n",
      "3  2014-01-01          3.0         5.072727      3.145455   \n",
      "4  2014-01-01          4.0         5.100000      3.118182   \n",
      "\n",
      "   avg_relative_humidity  avg_precipitation  avg_snowfall  avg_wind_direction  \\\n",
      "0              90.818182           0.045455           0.0          208.181818   \n",
      "1              89.300000           0.080000           0.0          210.000000   \n",
      "2              88.454545           0.009091           0.0          212.727273   \n",
      "3              88.545455           0.000000           0.0          206.363636   \n",
      "4              88.000000           0.009091           0.0          200.000000   \n",
      "\n",
      "   avg_wind_speed  avg_pressure  \n",
      "0       18.327273   1009.318187  \n",
      "1       18.360000   1009.379999  \n",
      "2       18.000000   1009.945451  \n",
      "3       17.645455   1009.945462  \n",
      "4       17.018182   1009.809088  \n",
      "(96407, 10)\n",
      "         date  hour_of_day  avg_delay_arrival  avg_delay_departure\n",
      "0  2014-01-01          0.0         294.669767           342.465116\n",
      "1  2014-01-01          1.0          22.523810            47.571429\n",
      "2  2014-01-01          4.0          15.243902            29.804878\n",
      "3  2014-01-01          5.0          21.412399            33.870620\n",
      "4  2014-01-01          6.0          28.685057            41.846743\n",
      "(94434, 4)\n",
      "(90390, 16)\n"
     ]
    }
   ],
   "source": [
    "query = \"\"\"\n",
    "SELECT \n",
    "w.date,\n",
    "EXTRACT(HOUR FROM w.hour) AS hour_of_day,\n",
    "AVG(w.temperature) AS avg_temperature,\n",
    "AVG(w.dewpoint) AS avg_dewpoint,\n",
    "AVG(w.relative_humidity) AS avg_relative_humidity,\n",
    "AVG(w.precipitation) AS avg_precipitation,\n",
    "AVG(w.snowfall) AS avg_snowfall,\n",
    "AVG(w.wind_direction) AS avg_wind_direction,\n",
    "AVG(w.wind_speed) AS avg_wind_speed,\n",
    "AVG(w.pressure) AS avg_pressure\n",
    "FROM WEATHER w\n",
    "GROUP BY w.date, hour_of_day\n",
    "ORDER BY w.date, hour_of_day;\n",
    "\"\"\"\n",
    "\n",
    "weather = pd.read_sql(sqla.text(query), connection)\n",
    "\n",
    "print(weather.head())\n",
    "print(weather.shape)\n",
    "\n",
    "query = \"\"\"\n",
    "    SELECT \n",
    "        t.departure_date AS date,\n",
    "        EXTRACT(HOUR FROM t.real_time_departure) AS hour_of_day,\n",
    "        AVG(t.delay_arrival) AS avg_delay_arrival,\n",
    "        AVG(t.delay_departure) AS avg_delay_departure\n",
    "    FROM TRAIN_DATA t\n",
    "    GROUP BY t.departure_date, hour_of_day\n",
    "    ORDER BY t.departure_date, hour_of_day;\n",
    "\"\"\"\n",
    "\n",
    "train_data = pd.read_sql(sqla.text(query), connection)\n",
    "\n",
    "print(train_data.head())\n",
    "print(train_data.shape)\n",
    "\n",
    "merged_df = train_data.merge(weather, on=[\"date\", \"hour_of_day\"], how=\"inner\")\n",
    "\n",
    "merged_df = type_day.merge(merged_df, on=[\"date\"], how=\"inner\")\n",
    "\n",
    "merged_df['date'] = pd.to_datetime(merged_df['date'])\n",
    "\n",
    "merged_df['date'] = merged_df['date'].dt.dayofyear\n",
    "\n",
    "merged_df['day_sin'] = np.sin(2 * np.pi * merged_df['date'] / 365)\n",
    "merged_df['day_cos'] = np.cos(2 * np.pi * merged_df['date'] / 365)\n",
    "\n",
    "# Drop the original 'date' column\n",
    "merged_df.drop(columns=['date'], inplace=True)\n",
    "\n",
    "print(merged_df.shape)\n",
    "\n"
   ]
  },
  {
   "cell_type": "code",
   "execution_count": 37,
   "metadata": {},
   "outputs": [
    {
     "name": "stdout",
     "output_type": "stream",
     "text": [
      "116.14999774464917\n",
      "Accuracy:  0.7485710071173065\n",
      "Confusion Matrix: \n",
      " [[10296  3230]\n",
      " [ 3588 10003]]\n"
     ]
    }
   ],
   "source": [
    "x = merged_df[[\"day_sin\",\"day_cos\",\"holiday\",\"weekend\", \"day_after_rest\", \"avg_temperature\", \"avg_dewpoint\", \"avg_relative_humidity\", \"avg_precipitation\", \"avg_snowfall\", \"avg_wind_direction\", \"avg_wind_speed\", \"avg_pressure\"]]\n",
    "y = merged_df[\"avg_delay_departure\"]\n",
    "\n",
    "median_y = y.median()\n",
    "print(median_y)\n",
    "\n",
    "new_y = y.apply(lambda x: 1 if x > median_y else 0)\n",
    "\n",
    "x_train, x_test, y_train, y_test = train_test_split(x, new_y, test_size=0.3, random_state=42)\n",
    "\n",
    "rf = RandomForestClassifier(n_estimators=100, random_state=0)\n",
    "rf.fit(x_train, y_train)\n",
    "\n",
    "y_pred = rf.predict(x_test)\n",
    "\n",
    "print(\"Accuracy: \", accuracy_score(y_test, y_pred))\n",
    "print(\"Confusion Matrix: \\n\", confusion_matrix(y_test, y_pred))"
   ]
  }
 ],
 "metadata": {
  "kernelspec": {
   "display_name": "Python 3",
   "language": "python",
   "name": "python3"
  },
  "language_info": {
   "codemirror_mode": {
    "name": "ipython",
    "version": 3
   },
   "file_extension": ".py",
   "mimetype": "text/x-python",
   "name": "python",
   "nbconvert_exporter": "python",
   "pygments_lexer": "ipython3",
   "version": "3.10.11"
  }
 },
 "nbformat": 4,
 "nbformat_minor": 2
}
