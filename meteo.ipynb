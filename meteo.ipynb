{
 "cells": [
  {
   "cell_type": "markdown",
   "metadata": {},
   "source": [
    "<span style=\"color:green\">This file scrapes the meteo for each region using the open-meteo api</span>\n"
   ]
  },
  {
   "cell_type": "code",
   "execution_count": 2,
   "metadata": {},
   "outputs": [
    {
     "name": "stdout",
     "output_type": "stream",
     "text": [
      "Fetching data for Wallonia...\n",
      "Saved Wallonia data to Wallonia_hourly_weather_2014_2024.csv\n",
      "Fetching data for Flanders...\n",
      "Saved Flanders data to Flanders_hourly_weather_2014_2024.csv\n",
      "Fetching data for Brussels...\n",
      "Saved Brussels data to Brussels_hourly_weather_2014_2024.csv\n"
     ]
    }
   ],
   "source": [
    "import requests\n",
    "import pandas as pd\n",
    "import time\n",
    "\n",
    "url = \"https://archive-api.open-meteo.com/v1/archive\"\n",
    "\n",
    "#Coordinates for the \"central point\" of each region\n",
    "regions = {\n",
    "    \"Wallonia\": (50.5, 4.9),\n",
    "    \"Flanders\": (51.0, 4.5),\n",
    "    \"Brussels\": (50.85, 4.35)\n",
    "}\n",
    "\n",
    "hourly_params = [\n",
    "    \"temperature_2m\",\n",
    "    \"apparent_temperature\",\n",
    "    \"dewpoint_2m\",\n",
    "    \"relative_humidity_2m\",\n",
    "    \"precipitation\",\n",
    "    \"rain\",\n",
    "    \"snowfall\",\n",
    "    \"cloudcover\",\n",
    "    \"cloudcover_low\",\n",
    "    \"cloudcover_mid\",\n",
    "    \"cloudcover_high\",\n",
    "    \"windgusts_10m\",\n",
    "    \"shortwave_radiation\",\n",
    "    \"direct_radiation\",\n",
    "    \"diffuse_radiation\",\n",
    "    \"direct_normal_irradiance\",\n",
    "    \"et0_fao_evapotranspiration\"\n",
    "]\n",
    "\n",
    "for region, (lat, lon) in regions.items():\n",
    "    print(f\"Fetching data for {region}...\")\n",
    "\n",
    "    params = {\n",
    "        \"latitude\": lat,\n",
    "        \"longitude\": lon,\n",
    "        \"start_date\": \"2014-01-01\",\n",
    "        \"end_date\": \"2024-12-31\",\n",
    "        \"hourly\": hourly_params,\n",
    "        \"timezone\": \"Europe/Brussels\"\n",
    "    }\n",
    "    #Delay needed due otherwise the requests after the first will fail due to limit\n",
    "    time.sleep(100)\n",
    "    response = requests.get(url, params=params)\n",
    "\n",
    "    data = response.json()\n",
    "\n",
    "    df = pd.DataFrame(data[\"hourly\"])\n",
    "\n",
    "    df[\"time\"] = pd.to_datetime(df[\"time\"])\n",
    "    \n",
    "    filename = f\"{region}_hourly_weather_2014_2024.csv\"\n",
    "    df.to_csv(filename, index=False)\n",
    "\n",
    "    print(f\"Saved {region} data to {filename}\")\n"
   ]
  },
  {
   "cell_type": "code",
   "execution_count": 3,
   "metadata": {},
   "outputs": [
    {
     "name": "stdout",
     "output_type": "stream",
     "text": [
      "Saved Belgium data to belgium_hourly_weather_2014_2024.csv\n"
     ]
    }
   ],
   "source": [
    "import pandas as pd\n",
    "\n",
    "wallonie = pd.read_csv(\"wallonia_hourly_weather_2014_2024.csv\")\n",
    "flanders = pd.read_csv(\"Flanders_hourly_weather_2014_2024.csv\")\n",
    "brussels = pd.read_csv(\"Brussels_hourly_weather_2014_2024.csv\")\n",
    "\n",
    "wallonie['Region'] = 1\n",
    "flanders['Region'] = 2\n",
    "brussels['Region'] = 3\n",
    "\n",
    "df = pd.concat([wallonie, flanders, brussels])\n",
    "\n",
    "df[\"time\"] = pd.to_datetime(df[\"time\"])\n",
    "df[\"date\"] = df[\"time\"].dt.strftime(\"%Y-%m-%d\")\n",
    "df[\"hour\"] = df[\"time\"].dt.strftime(\"%H:%M:%S\")\n",
    "df.drop(columns=[\"time\"], inplace=True)\n",
    "\n",
    "\n",
    "df.to_csv(\"belgium_hourly_weather_2014_2024.csv\", index=False)\n",
    "print(\"Saved Belgium data to belgium_hourly_weather_2014_2024.csv\")"
   ]
  }
 ],
 "metadata": {
  "kernelspec": {
   "display_name": "Python 3",
   "language": "python",
   "name": "python3"
  },
  "language_info": {
   "codemirror_mode": {
    "name": "ipython",
    "version": 3
   },
   "file_extension": ".py",
   "mimetype": "text/x-python",
   "name": "python",
   "nbconvert_exporter": "python",
   "pygments_lexer": "ipython3",
   "version": "3.9.13"
  }
 },
 "nbformat": 4,
 "nbformat_minor": 2
}
